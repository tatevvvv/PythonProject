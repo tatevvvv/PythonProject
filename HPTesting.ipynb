{
 "cells": [
  {
   "cell_type": "code",
   "id": "initial_id",
   "metadata": {
    "collapsed": true,
    "ExecuteTime": {
     "end_time": "2025-02-01T10:11:52.949385Z",
     "start_time": "2025-02-01T10:11:52.247581Z"
    }
   },
   "source": [
    "import numpy as np\n",
    "from scipy import stats\n",
    "np.random.seed(42)\n"
   ],
   "outputs": [],
   "execution_count": 3
  },
  {
   "metadata": {
    "ExecuteTime": {
     "end_time": "2025-02-01T10:29:12.034784Z",
     "start_time": "2025-02-01T10:29:12.025301Z"
    }
   },
   "cell_type": "code",
   "source": [
    "group_A = np.random.normal(loc=50, scale=10, size=30)\n",
    "group_B = np.random.normal(loc=50, scale=2, size=40)\n",
    "group_A"
   ],
   "id": "4ec7682bf827aa03",
   "outputs": [
    {
     "data": {
      "text/plain": [
       "array([45.29238593, 53.99090274, 23.65960033, 61.03230195, 36.05442504,\n",
       "       58.49540404, 60.95407158, 36.05197808, 47.29778429, 62.91810166,\n",
       "       59.83888521, 48.23379934, 43.5055619 , 19.68250578, 40.28261367,\n",
       "       38.72625977, 52.93880227, 47.15181444, 46.64683673, 59.00300918,\n",
       "       63.80886518, 67.79940756, 38.71999071, 56.13842532, 58.11005326,\n",
       "       41.0385945 , 54.79267046, 31.82286819, 41.81583412, 53.92675581])"
      ]
     },
     "execution_count": 39,
     "metadata": {},
     "output_type": "execute_result"
    }
   ],
   "execution_count": 39
  },
  {
   "metadata": {
    "ExecuteTime": {
     "end_time": "2025-02-01T10:29:13.642024Z",
     "start_time": "2025-02-01T10:29:13.633107Z"
    }
   },
   "cell_type": "code",
   "source": [
    "statistics, p_value = stats.ttest_ind(group_A, group_B)\n",
    "statistics, p_value"
   ],
   "id": "871114daf2bb90c1",
   "outputs": [
    {
     "data": {
      "text/plain": [
       "(np.float64(-0.5434159483821698), np.float64(0.5886205342008617))"
      ]
     },
     "execution_count": 40,
     "metadata": {},
     "output_type": "execute_result"
    }
   ],
   "execution_count": 40
  },
  {
   "metadata": {},
   "cell_type": "markdown",
   "source": "",
   "id": "7acf9513702d315c"
  },
  {
   "metadata": {},
   "cell_type": "markdown",
   "source": "p_value is 0.58 which is greater than 0.05 threshold, so the probability that those two groups come from the same population lies on the range where we accept H0.",
   "id": "94d50885475d0d6a"
  },
  {
   "metadata": {
    "ExecuteTime": {
     "end_time": "2025-02-01T10:58:25.713951Z",
     "start_time": "2025-02-01T10:58:25.709883Z"
    }
   },
   "cell_type": "code",
   "source": [
    "# Group A: mean=50, Group B: mean=55, Group C: mean=60\n",
    "group_A = np.random.normal(loc=50, scale=10, size=30)\n",
    "group_B = np.random.normal(loc=55, scale=10, size=30)\n",
    "group_C = np.random.normal(loc=60, scale=10, size=30)\n"
   ],
   "id": "16a279b6ac4cf20f",
   "outputs": [],
   "execution_count": 41
  }
 ],
 "metadata": {
  "kernelspec": {
   "display_name": "Python 3",
   "language": "python",
   "name": "python3"
  },
  "language_info": {
   "codemirror_mode": {
    "name": "ipython",
    "version": 2
   },
   "file_extension": ".py",
   "mimetype": "text/x-python",
   "name": "python",
   "nbconvert_exporter": "python",
   "pygments_lexer": "ipython2",
   "version": "2.7.6"
  }
 },
 "nbformat": 4,
 "nbformat_minor": 5
}
