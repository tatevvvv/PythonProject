{
 "cells": [
  {
   "cell_type": "code",
   "id": "initial_id",
   "metadata": {
    "collapsed": true
   },
   "source": [
    "import csv\n",
    "from collections import defaultdict\n",
    "\n",
    "def read_csv_group_by_patient(csv_file):\n",
    "    grouped_data = defaultdict(list)  # Dictionary to store grouped data\n",
    "\n",
    "    with open(csv_file, 'r', encoding='utf-8-sig') as f:\n",
    "        reader = csv.DictReader(f)  # Reads CSV into dictionaries\n",
    "\n",
    "        for row in reader:\n",
    "            patient_id = row.get(\"patient_id\")  # Get patient_id column\n",
    "            if patient_id:  # Ensure patient_id exists\n",
    "                grouped_data[patient_id].append(row)\n",
    "\n",
    "    return grouped_data  # Dictionary with patient_id as keys and lists of records as values\n",
    "\n",
    "# Example Usage\n",
    "csv_file_path = \"acuity.csv\"  # Change to your actual file path\n",
    "grouped_patients = read_csv_group_by_patient(csv_file_path)\n",
    "\n",
    "from datetime import datetime\n",
    "\n",
    "\n",
    "def parse_date(date_str, parse_format):\n",
    "    \"\"\"Converts a string date into a datetime object for correct sorting.\"\"\"\n",
    "    try:\n",
    "        return datetime.strptime(date_str, parse_format)\n",
    "    except ValueError:\n",
    "        return datetime.min  # Assign the earliest date for invalid/missing values\n",
    "# Print grouped data\n",
    "# Print only first 5 patient groups\n",
    "for i, (patient_id, records) in enumerate(grouped_patients.items()):\n",
    "    if i >= 5:  # Limit output\n",
    "        break\n",
    "    print(f\"Patient ID: {patient_id}\")\n",
    "    filtered_records = [rec for rec in records if rec['eye'] == 'OS']\n",
    "    sorted_records = sorted(filtered_records, key=lambda x: parse_date(x['date'], \"%m/%d/%Y\"))\n",
    "    for record in sorted_records:  # Limit to first 3 records per patient\n",
    "        print(record)\n",
    "    break\n"
   ],
   "outputs": [],
   "execution_count": null
  },
  {
   "metadata": {},
   "cell_type": "code",
   "source": [
    "# Example Usage\n",
    "import pandas as pd\n",
    "\n",
    "csv_file_path = \"diagnosis_diseaseOnset_eye_gender_race_ethnicity_dob.csv\"  # Change to your actual file path\n",
    "\n",
    "on_sets = pd.read_csv(csv_file_path)\n"
   ],
   "id": "1fd261a8cc7bc01a",
   "outputs": [],
   "execution_count": null
  },
  {
   "metadata": {},
   "cell_type": "code",
   "source": "on_sets.sort_values('on_set_date', inplace=True)",
   "id": "81468044d0c977ff",
   "outputs": [],
   "execution_count": null
  },
  {
   "metadata": {},
   "cell_type": "code",
   "source": "on_sets",
   "id": "73e7ef1475d352cd",
   "outputs": [],
   "execution_count": null
  },
  {
   "metadata": {},
   "cell_type": "code",
   "source": [
    "on_sets['on_set_date'] = pd.to_datetime(on_sets['on_set_date'])\n",
    "\n",
    "# Define the starting date\n",
    "start_date = pd.Timestamp('2010-03-19')\n",
    "\n",
    "# Calculate the quarter number since the start date\n",
    "on_sets['quarter'] = ((on_sets['on_set_date'] - start_date).dt.days // 90) + 1  # Each quarter is ~90 days\n",
    "\n",
    "# Count the number of rows in each quarter\n",
    "quarter_counts = on_sets.groupby('quarter').size().reset_index(name='count')\n",
    "\n"
   ],
   "id": "a418990e51217fbd",
   "outputs": [],
   "execution_count": null
  },
  {
   "metadata": {},
   "cell_type": "code",
   "source": "quarter_counts.sort_values('quarter', ascending=True, inplace=True)",
   "id": "30ecad189d8e3a6a",
   "outputs": [],
   "execution_count": null
  },
  {
   "metadata": {},
   "cell_type": "code",
   "source": "quarter_counts = quarter_counts[quarter_counts['quarter'] > 11]  # Keeps only rows where vision is NOT '20/100'\n",
   "id": "3b461aa277fabd8",
   "outputs": [],
   "execution_count": null
  },
  {
   "metadata": {},
   "cell_type": "code",
   "source": "quarter_counts",
   "id": "a1f5b8849825cfa8",
   "outputs": [],
   "execution_count": null
  },
  {
   "metadata": {},
   "cell_type": "code",
   "source": "std = quarter_counts['count'].std()",
   "id": "d5aaa13fa1bce885",
   "outputs": [],
   "execution_count": null
  },
  {
   "metadata": {},
   "cell_type": "code",
   "source": "mean = quarter_counts['count'].mean()",
   "id": "f6f52172fb528881",
   "outputs": [],
   "execution_count": null
  },
  {
   "metadata": {},
   "cell_type": "code",
   "source": "std, mean",
   "id": "79612e5e0016cbd",
   "outputs": [],
   "execution_count": null
  },
  {
   "metadata": {},
   "cell_type": "code",
   "source": [
    "import pandas as pd\n",
    "\n",
    "# Load both CSV files\n",
    "csv_file_1 = \"path2date.csv\"\n",
    "csv_file_2 = \"id_eye_2_path.csv\"\n",
    "\n",
    "df1 = pd.read_csv(csv_file_1)\n",
    "df2 = pd.read_csv(csv_file_2)\n",
    "\n",
    "# Perform FULL OUTER JOIN on 'path' column\n",
    "df_merged = pd.merge(df1, df2, on=\"path\", how=\"outer\")  # Keeps all rows from both files\n",
    "\n",
    "# Save the merged DataFrame to a new CSV file\n",
    "df_merged.to_csv(\"merged_output_full_outer.csv\", index=False)\n",
    "\n"
   ],
   "id": "cd8e92ad95c550c2",
   "outputs": [],
   "execution_count": null
  },
  {
   "metadata": {},
   "cell_type": "code",
   "source": "merged_df = pd.read_csv(\"merged_output_full_outer.csv\")",
   "id": "934d9c53269e77ef",
   "outputs": [],
   "execution_count": null
  },
  {
   "metadata": {},
   "cell_type": "code",
   "source": "merged_df",
   "id": "acd193a6a68cf4a9",
   "outputs": [],
   "execution_count": null
  },
  {
   "metadata": {},
   "cell_type": "code",
   "source": "pdd = pd.read_csv(\"path2date.csv\")",
   "id": "1254932d8c392f77",
   "outputs": [],
   "execution_count": null
  },
  {
   "metadata": {},
   "cell_type": "code",
   "source": "len(pdd)",
   "id": "cf6378c27aa67cf9",
   "outputs": [],
   "execution_count": null
  }
 ],
 "metadata": {
  "kernelspec": {
   "display_name": "Python 3",
   "language": "python",
   "name": "python3"
  },
  "language_info": {
   "codemirror_mode": {
    "name": "ipython",
    "version": 2
   },
   "file_extension": ".py",
   "mimetype": "text/x-python",
   "name": "python",
   "nbconvert_exporter": "python",
   "pygments_lexer": "ipython2",
   "version": "2.7.6"
  }
 },
 "nbformat": 4,
 "nbformat_minor": 5
}
