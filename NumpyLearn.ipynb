{
 "cells": [
  {
   "cell_type": "code",
   "id": "initial_id",
   "metadata": {
    "collapsed": true,
    "ExecuteTime": {
     "end_time": "2025-01-08T15:38:17.645778Z",
     "start_time": "2025-01-08T15:38:17.518783Z"
    }
   },
   "source": [
    "import decimal\n",
    "\n",
    "import numpy as np"
   ],
   "outputs": [],
   "execution_count": 1
  },
  {
   "metadata": {
    "ExecuteTime": {
     "end_time": "2025-01-08T16:07:15.954470Z",
     "start_time": "2025-01-08T16:07:15.943510Z"
    }
   },
   "cell_type": "code",
   "source": "array = np.array([[1,2], [3,4], [5, 6]])",
   "id": "eb318b6850c2e5b3",
   "outputs": [],
   "execution_count": 71
  },
  {
   "metadata": {
    "ExecuteTime": {
     "end_time": "2025-01-08T16:07:17.540538Z",
     "start_time": "2025-01-08T16:07:17.528945Z"
    }
   },
   "cell_type": "code",
   "source": "array",
   "id": "fff0702f0fa2d17a",
   "outputs": [
    {
     "data": {
      "text/plain": [
       "array([[1, 2],\n",
       "       [3, 4],\n",
       "       [5, 6]])"
      ]
     },
     "execution_count": 72,
     "metadata": {},
     "output_type": "execute_result"
    }
   ],
   "execution_count": 72
  },
  {
   "metadata": {
    "ExecuteTime": {
     "end_time": "2025-01-08T16:05:02.590125Z",
     "start_time": "2025-01-08T16:05:02.569190Z"
    }
   },
   "cell_type": "code",
   "source": "array[:, 0::2] #[start: stop : step]",
   "id": "f37a2df11680d826",
   "outputs": [
    {
     "data": {
      "text/plain": [
       "array([[1, 5, 8],\n",
       "       [3, 5, 8],\n",
       "       [5, 5, 8]])"
      ]
     },
     "execution_count": 67,
     "metadata": {},
     "output_type": "execute_result"
    }
   ],
   "execution_count": 67
  },
  {
   "metadata": {
    "ExecuteTime": {
     "end_time": "2025-01-08T16:09:13.855194Z",
     "start_time": "2025-01-08T16:09:13.848404Z"
    }
   },
   "cell_type": "code",
   "source": "sliced = array[0:2, 0:2]",
   "id": "351402e4a25eab97",
   "outputs": [],
   "execution_count": 78
  },
  {
   "metadata": {
    "ExecuteTime": {
     "end_time": "2025-01-08T16:09:22.668817Z",
     "start_time": "2025-01-08T16:09:22.659074Z"
    }
   },
   "cell_type": "code",
   "source": "sliced",
   "id": "4291521dbef420af",
   "outputs": [
    {
     "data": {
      "text/plain": [
       "array([[1, 2],\n",
       "       [3, 4]])"
      ]
     },
     "execution_count": 79,
     "metadata": {},
     "output_type": "execute_result"
    }
   ],
   "execution_count": 79
  },
  {
   "metadata": {
    "ExecuteTime": {
     "end_time": "2025-01-08T16:09:42.491702Z",
     "start_time": "2025-01-08T16:09:42.472445Z"
    }
   },
   "cell_type": "code",
   "source": "sliced[0,0] = 10",
   "id": "8ab7a4edda1d63d7",
   "outputs": [],
   "execution_count": 80
  },
  {
   "metadata": {
    "ExecuteTime": {
     "end_time": "2025-01-08T16:10:11.841152Z",
     "start_time": "2025-01-08T16:10:11.818131Z"
    }
   },
   "cell_type": "code",
   "source": "array",
   "id": "c1ef114e06d2339d",
   "outputs": [
    {
     "data": {
      "text/plain": [
       "array([[10,  2],\n",
       "       [ 3,  4],\n",
       "       [ 5,  6]])"
      ]
     },
     "execution_count": 81,
     "metadata": {},
     "output_type": "execute_result"
    }
   ],
   "execution_count": 81
  },
  {
   "metadata": {
    "ExecuteTime": {
     "end_time": "2025-01-08T16:13:56.489651Z",
     "start_time": "2025-01-08T16:13:56.468700Z"
    }
   },
   "cell_type": "code",
   "source": "print(sliced.base)",
   "id": "de9cffe4a0c430bc",
   "outputs": [
    {
     "name": "stdout",
     "output_type": "stream",
     "text": [
      "[[10  2]\n",
      " [ 3  4]\n",
      " [ 5  6]]\n"
     ]
    }
   ],
   "execution_count": 82
  },
  {
   "metadata": {
    "ExecuteTime": {
     "end_time": "2025-01-09T17:17:32.013143Z",
     "start_time": "2025-01-09T17:17:31.993987Z"
    }
   },
   "cell_type": "code",
   "source": "import array as pyArray",
   "id": "b09334b49bbcd686",
   "outputs": [],
   "execution_count": 112
  },
  {
   "metadata": {
    "ExecuteTime": {
     "end_time": "2025-01-08T16:41:00.810659Z",
     "start_time": "2025-01-08T16:41:00.796654Z"
    }
   },
   "cell_type": "code",
   "source": "array = np.array([[1,2], [3,4], [5, 6]])",
   "id": "b808cdb6480680f",
   "outputs": [],
   "execution_count": 88
  },
  {
   "metadata": {
    "ExecuteTime": {
     "end_time": "2025-01-09T16:59:29.457645Z",
     "start_time": "2025-01-09T16:59:29.446615Z"
    }
   },
   "cell_type": "code",
   "source": "array = '223'",
   "id": "afcd09dcb26ef04e",
   "outputs": [],
   "execution_count": 94
  },
  {
   "metadata": {
    "ExecuteTime": {
     "end_time": "2025-01-09T16:59:35.933669Z",
     "start_time": "2025-01-09T16:59:35.916457Z"
    }
   },
   "cell_type": "code",
   "source": "array",
   "id": "38742b92b6398313",
   "outputs": [
    {
     "data": {
      "text/plain": [
       "'223'"
      ]
     },
     "execution_count": 95,
     "metadata": {},
     "output_type": "execute_result"
    }
   ],
   "execution_count": 95
  },
  {
   "metadata": {
    "ExecuteTime": {
     "end_time": "2025-01-09T17:01:50.120688Z",
     "start_time": "2025-01-09T17:01:50.106086Z"
    }
   },
   "cell_type": "code",
   "source": "import decimal as pyDecimal",
   "id": "6f5584156a3f3ebd",
   "outputs": [],
   "execution_count": 101
  },
  {
   "metadata": {
    "ExecuteTime": {
     "end_time": "2025-01-09T17:02:45.223187Z",
     "start_time": "2025-01-09T17:02:45.204176Z"
    }
   },
   "cell_type": "code",
   "source": "dec= pyDecimal.Decimal(2.5)\n",
   "id": "db12a42a9c836ee",
   "outputs": [],
   "execution_count": 106
  },
  {
   "metadata": {
    "ExecuteTime": {
     "end_time": "2025-01-09T17:19:19.518058Z",
     "start_time": "2025-01-09T17:19:19.490532Z"
    }
   },
   "cell_type": "code",
   "source": "arr2 = pyArray.array()",
   "id": "6bf4627e5241b551",
   "outputs": [
    {
     "ename": "TypeError",
     "evalue": "array() takes at least 1 argument (0 given)",
     "output_type": "error",
     "traceback": [
      "\u001B[1;31m---------------------------------------------------------------------------\u001B[0m",
      "\u001B[1;31mTypeError\u001B[0m                                 Traceback (most recent call last)",
      "Cell \u001B[1;32mIn[116], line 1\u001B[0m\n\u001B[1;32m----> 1\u001B[0m arr2 \u001B[38;5;241m=\u001B[39m \u001B[43mpyArray\u001B[49m\u001B[38;5;241;43m.\u001B[39;49m\u001B[43marray\u001B[49m\u001B[43m(\u001B[49m\u001B[43m)\u001B[49m\n",
      "\u001B[1;31mTypeError\u001B[0m: array() takes at least 1 argument (0 given)"
     ]
    }
   ],
   "execution_count": 116
  },
  {
   "metadata": {
    "ExecuteTime": {
     "end_time": "2025-01-09T17:26:11.184907Z",
     "start_time": "2025-01-09T17:26:11.165580Z"
    }
   },
   "cell_type": "code",
   "source": [
    "collection = [1,2,3]\n",
    "for item in collection.copy():\n",
    "    if item % 2 ==0:\n",
    "        collection.remove(item)\n",
    "\n",
    "for e in range(len(collection)):\n",
    "\n"
   ],
   "id": "9e8f255f07ee07f6",
   "outputs": [
    {
     "data": {
      "text/plain": [
       "[1, 3]"
      ]
     },
     "execution_count": 120,
     "metadata": {},
     "output_type": "execute_result"
    }
   ],
   "execution_count": 120
  },
  {
   "metadata": {},
   "cell_type": "code",
   "outputs": [],
   "execution_count": null,
   "source": [
    "point = (0, 8)\n",
    "match point:\n",
    "    case (0, 0):\n",
    "        print(\"Origin\")\n",
    "    case (0, y):\n",
    "        print(f\"Y={y}\")\n",
    "    case (x, 0):\n",
    "        print(f\"X={x}\")\n",
    "    case (x, y):\n",
    "        print(f\"X={x}, Y={y}\")\n",
    "    case _:\n",
    "        raise ValueError(\"Not a point\")"
   ],
   "id": "588cafac3ac6ec08"
  },
  {
   "metadata": {
    "ExecuteTime": {
     "end_time": "2025-01-13T17:12:14.618668Z",
     "start_time": "2025-01-13T17:12:14.608396Z"
    }
   },
   "cell_type": "code",
   "source": [
    "listt =  [1, 3, 4, 5, 5]\n",
    "\n",
    "listt.index(5)"
   ],
   "id": "5f4554d8c2ab4fc2",
   "outputs": [
    {
     "data": {
      "text/plain": [
       "3"
      ]
     },
     "execution_count": 5,
     "metadata": {},
     "output_type": "execute_result"
    }
   ],
   "execution_count": 5
  },
  {
   "metadata": {
    "ExecuteTime": {
     "end_time": "2025-01-13T17:14:39.958090Z",
     "start_time": "2025-01-13T17:14:39.950281Z"
    }
   },
   "cell_type": "code",
   "source": "list = [None] * 10",
   "id": "c7541247d672f44a",
   "outputs": [],
   "execution_count": 7
  },
  {
   "metadata": {
    "ExecuteTime": {
     "end_time": "2025-01-13T17:14:50.151164Z",
     "start_time": "2025-01-13T17:14:50.143124Z"
    }
   },
   "cell_type": "code",
   "source": "list.append(10)",
   "id": "60add1bba24d1948",
   "outputs": [],
   "execution_count": 8
  },
  {
   "metadata": {
    "ExecuteTime": {
     "end_time": "2025-01-13T17:18:08.511107Z",
     "start_time": "2025-01-13T17:18:08.493516Z"
    }
   },
   "cell_type": "code",
   "source": [
    "for x in range(10):\n",
    "    print(x)"
   ],
   "id": "7b8d137a49ca1b75",
   "outputs": [
    {
     "name": "stdout",
     "output_type": "stream",
     "text": [
      "0\n",
      "1\n",
      "2\n",
      "3\n",
      "4\n",
      "5\n",
      "6\n",
      "7\n",
      "8\n",
      "9\n"
     ]
    }
   ],
   "execution_count": 10
  },
  {
   "metadata": {
    "ExecuteTime": {
     "end_time": "2025-01-13T17:18:17.641996Z",
     "start_time": "2025-01-13T17:18:17.630575Z"
    }
   },
   "cell_type": "code",
   "source": "x",
   "id": "762849cc752d4751",
   "outputs": [
    {
     "data": {
      "text/plain": [
       "9"
      ]
     },
     "execution_count": 11,
     "metadata": {},
     "output_type": "execute_result"
    }
   ],
   "execution_count": 11
  }
 ],
 "metadata": {
  "kernelspec": {
   "display_name": "Python 3",
   "language": "python",
   "name": "python3"
  },
  "language_info": {
   "codemirror_mode": {
    "name": "ipython",
    "version": 2
   },
   "file_extension": ".py",
   "mimetype": "text/x-python",
   "name": "python",
   "nbconvert_exporter": "python",
   "pygments_lexer": "ipython2",
   "version": "2.7.6"
  }
 },
 "nbformat": 4,
 "nbformat_minor": 5
}
