{
 "cells": [
  {
   "cell_type": "code",
   "id": "initial_id",
   "metadata": {
    "collapsed": true,
    "ExecuteTime": {
     "end_time": "2025-01-08T15:38:17.645778Z",
     "start_time": "2025-01-08T15:38:17.518783Z"
    }
   },
   "source": "import numpy as np",
   "outputs": [],
   "execution_count": 1
  },
  {
   "metadata": {
    "ExecuteTime": {
     "end_time": "2025-01-08T16:07:15.954470Z",
     "start_time": "2025-01-08T16:07:15.943510Z"
    }
   },
   "cell_type": "code",
   "source": "array = np.array([[1,2], [3,4], [5, 6]])",
   "id": "eb318b6850c2e5b3",
   "outputs": [],
   "execution_count": 71
  },
  {
   "metadata": {
    "ExecuteTime": {
     "end_time": "2025-01-08T16:07:17.540538Z",
     "start_time": "2025-01-08T16:07:17.528945Z"
    }
   },
   "cell_type": "code",
   "source": "array",
   "id": "fff0702f0fa2d17a",
   "outputs": [
    {
     "data": {
      "text/plain": [
       "array([[1, 2],\n",
       "       [3, 4],\n",
       "       [5, 6]])"
      ]
     },
     "execution_count": 72,
     "metadata": {},
     "output_type": "execute_result"
    }
   ],
   "execution_count": 72
  },
  {
   "metadata": {
    "ExecuteTime": {
     "end_time": "2025-01-08T16:05:02.590125Z",
     "start_time": "2025-01-08T16:05:02.569190Z"
    }
   },
   "cell_type": "code",
   "source": "array[:, 0::2] #[start: stop : step]",
   "id": "f37a2df11680d826",
   "outputs": [
    {
     "data": {
      "text/plain": [
       "array([[1, 5, 8],\n",
       "       [3, 5, 8],\n",
       "       [5, 5, 8]])"
      ]
     },
     "execution_count": 67,
     "metadata": {},
     "output_type": "execute_result"
    }
   ],
   "execution_count": 67
  },
  {
   "metadata": {
    "ExecuteTime": {
     "end_time": "2025-01-08T16:09:13.855194Z",
     "start_time": "2025-01-08T16:09:13.848404Z"
    }
   },
   "cell_type": "code",
   "source": "sliced = array[0:2, 0:2]",
   "id": "351402e4a25eab97",
   "outputs": [],
   "execution_count": 78
  },
  {
   "metadata": {
    "ExecuteTime": {
     "end_time": "2025-01-08T16:09:22.668817Z",
     "start_time": "2025-01-08T16:09:22.659074Z"
    }
   },
   "cell_type": "code",
   "source": "sliced",
   "id": "4291521dbef420af",
   "outputs": [
    {
     "data": {
      "text/plain": [
       "array([[1, 2],\n",
       "       [3, 4]])"
      ]
     },
     "execution_count": 79,
     "metadata": {},
     "output_type": "execute_result"
    }
   ],
   "execution_count": 79
  },
  {
   "metadata": {
    "ExecuteTime": {
     "end_time": "2025-01-08T16:09:42.491702Z",
     "start_time": "2025-01-08T16:09:42.472445Z"
    }
   },
   "cell_type": "code",
   "source": "sliced[0,0] = 10",
   "id": "8ab7a4edda1d63d7",
   "outputs": [],
   "execution_count": 80
  },
  {
   "metadata": {
    "ExecuteTime": {
     "end_time": "2025-01-08T16:10:11.841152Z",
     "start_time": "2025-01-08T16:10:11.818131Z"
    }
   },
   "cell_type": "code",
   "source": "array",
   "id": "c1ef114e06d2339d",
   "outputs": [
    {
     "data": {
      "text/plain": [
       "array([[10,  2],\n",
       "       [ 3,  4],\n",
       "       [ 5,  6]])"
      ]
     },
     "execution_count": 81,
     "metadata": {},
     "output_type": "execute_result"
    }
   ],
   "execution_count": 81
  },
  {
   "metadata": {
    "ExecuteTime": {
     "end_time": "2025-01-08T16:13:56.489651Z",
     "start_time": "2025-01-08T16:13:56.468700Z"
    }
   },
   "cell_type": "code",
   "source": "print(sliced.base)",
   "id": "de9cffe4a0c430bc",
   "outputs": [
    {
     "name": "stdout",
     "output_type": "stream",
     "text": [
      "[[10  2]\n",
      " [ 3  4]\n",
      " [ 5  6]]\n"
     ]
    }
   ],
   "execution_count": 82
  },
  {
   "metadata": {
    "ExecuteTime": {
     "end_time": "2025-01-08T16:40:15.076336Z",
     "start_time": "2025-01-08T16:40:15.062510Z"
    }
   },
   "cell_type": "code",
   "source": "import array as pyArray",
   "id": "b09334b49bbcd686",
   "outputs": [],
   "execution_count": 85
  },
  {
   "metadata": {
    "ExecuteTime": {
     "end_time": "2025-01-08T16:41:00.810659Z",
     "start_time": "2025-01-08T16:41:00.796654Z"
    }
   },
   "cell_type": "code",
   "source": "array = np.array([[1,2], [3,4], [5, 6]])",
   "id": "b808cdb6480680f",
   "outputs": [],
   "execution_count": 88
  },
  {
   "metadata": {
    "ExecuteTime": {
     "end_time": "2025-01-08T16:41:13.340852Z",
     "start_time": "2025-01-08T16:41:13.327306Z"
    }
   },
   "cell_type": "code",
   "source": "array = '223'",
   "id": "afcd09dcb26ef04e",
   "outputs": [],
   "execution_count": 89
  },
  {
   "metadata": {
    "ExecuteTime": {
     "end_time": "2025-01-08T17:00:39.783967Z",
     "start_time": "2025-01-08T17:00:39.748899Z"
    }
   },
   "cell_type": "code",
   "source": [
    "x = \"hello\"\n",
    "x.append(\"world\")"
   ],
   "id": "38742b92b6398313",
   "outputs": [
    {
     "ename": "AttributeError",
     "evalue": "'str' object has no attribute 'append'",
     "output_type": "error",
     "traceback": [
      "\u001B[1;31m---------------------------------------------------------------------------\u001B[0m",
      "\u001B[1;31mAttributeError\u001B[0m                            Traceback (most recent call last)",
      "Cell \u001B[1;32mIn[91], line 2\u001B[0m\n\u001B[0;32m      1\u001B[0m x \u001B[38;5;241m=\u001B[39m \u001B[38;5;124m\"\u001B[39m\u001B[38;5;124mhello\u001B[39m\u001B[38;5;124m\"\u001B[39m\n\u001B[1;32m----> 2\u001B[0m \u001B[43mx\u001B[49m\u001B[38;5;241;43m.\u001B[39;49m\u001B[43mappend\u001B[49m(\u001B[38;5;124m\"\u001B[39m\u001B[38;5;124mworld\u001B[39m\u001B[38;5;124m\"\u001B[39m)\n",
      "\u001B[1;31mAttributeError\u001B[0m: 'str' object has no attribute 'append'"
     ]
    }
   ],
   "execution_count": 91
  }
 ],
 "metadata": {
  "kernelspec": {
   "display_name": "Python 3",
   "language": "python",
   "name": "python3"
  },
  "language_info": {
   "codemirror_mode": {
    "name": "ipython",
    "version": 2
   },
   "file_extension": ".py",
   "mimetype": "text/x-python",
   "name": "python",
   "nbconvert_exporter": "python",
   "pygments_lexer": "ipython2",
   "version": "2.7.6"
  }
 },
 "nbformat": 4,
 "nbformat_minor": 5
}
