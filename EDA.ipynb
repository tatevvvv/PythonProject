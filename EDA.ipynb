{
 "cells": [
  {
   "metadata": {},
   "cell_type": "markdown",
   "source": "## Data in Numbers",
   "id": "66ab72a247f0b192"
  },
  {
   "cell_type": "code",
   "id": "initial_id",
   "metadata": {
    "collapsed": true
   },
   "source": [
    "import pandas as pd\n",
    "import numpy as np\n",
    "import matplotlib.pyplot as plt\n",
    "import seaborn as sns\n",
    "\n",
    "patients_eys = pd.read_csv(\"diagnosis_diseaseOnset_eye_gender_race_ethnicity_dob.csv\")\n",
    "\n",
    "unique_patients = patients_eys[['patient_id']].drop_duplicates().shape[0]\n",
    "print(f\"Number of unique patients: {unique_patients}\")\n",
    "\n",
    "unique_eyes = patients_eys[['patient_id', 'location']].drop_duplicates().shape[0]\n",
    "print(f\"Number of unique eyes: {unique_eyes}\")\n",
    "\n",
    "had_dry_amd = patients_eys.loc[patients_eys['name'] == 'dry_amd'][['patient_id', 'location']].drop_duplicates()\n",
    "had_ga = patients_eys.loc[patients_eys['name'] == 'ga'][['patient_id', 'location']].drop_duplicates()\n",
    "had_wet_amd = patients_eys.loc[patients_eys['name'] == 'wet_amd'][['patient_id', 'location']].drop_duplicates()\n",
    "\n",
    "dry_to_ga = had_dry_amd.merge(had_ga, on=['patient_id', 'location'], how='inner')\n",
    "ga_to_wet = had_ga.merge(had_wet_amd, on=['patient_id', 'location'], how='inner')\n",
    "\n",
    "print(f\"dry: {had_dry_amd.shape[0]}\")\n",
    "print(f\"ga: {had_ga.shape[0]}\")\n",
    "print(f\"wet: {had_wet_amd.shape[0]}\")\n",
    "print(f\"dry to ga : {dry_to_ga.shape[0]}\")\n",
    "print(f\"ga to wet: {ga_to_wet.shape[0]}\")\n",
    "\n",
    "\n",
    "\n",
    "# Merge had_dry_amd and had_wet_amd to find patients with both conditions\n",
    "had_dry_wet_amd = had_dry_amd.merge(had_wet_amd, on=['patient_id', 'location'], how='inner')\n",
    "\n",
    "# Exclude those who also had GA\n",
    "had_dry_wet_no_ga = had_dry_wet_amd.merge(had_ga, on=['patient_id', 'location'], how='left', indicator=True)\n",
    "had_dry_wet_no_ga = had_dry_wet_no_ga[had_dry_wet_no_ga['_merge'] == 'left_only'].drop(columns=['_merge'])\n",
    "\n",
    "print(f\"from dry (no ga) to wet: {len(had_dry_wet_no_ga)}\")\n",
    "\n",
    "# Find patients who had Wet AMD but not Dry AMD or GA\n",
    "only_wet_amd = had_wet_amd.merge(had_dry_amd, on=['patient_id', 'location'], how='left', indicator=True)\n",
    "only_wet_amd = only_wet_amd[only_wet_amd['_merge'] == 'left_only'].drop(columns=['_merge'])\n",
    "\n",
    "only_wet_amd = only_wet_amd.merge(had_ga, on=['patient_id', 'location'], how='left', indicator=True)\n",
    "only_wet_amd = only_wet_amd[only_wet_amd['_merge'] == 'left_only'].drop(columns=['_merge'])\n",
    "\n",
    "print(f\"only had wet: {len(only_wet_amd)}\")\n",
    "\n",
    "had_ga_no_wet = had_ga.merge(had_wet_amd, on=['patient_id', 'location'], how='left', indicator=True)\n",
    "had_ga_no_wet = had_ga_no_wet[had_ga_no_wet['_merge'] == 'left_only'].drop(columns=['_merge'])\n",
    "\n",
    "print(f\"had ga no wet: {len(had_ga_no_wet)}\")\n"
   ],
   "outputs": [],
   "execution_count": null
  },
  {
   "metadata": {},
   "cell_type": "markdown",
   "source": "## mean visit distance",
   "id": "4c05653b98a3682"
  },
  {
   "metadata": {},
   "cell_type": "code",
   "source": [
    "import pandas as pd\n",
    "\n",
    "# Load dataset\n",
    "df = pd.read_csv(\"acuity.csv\")\n",
    "\n",
    "# Convert visit_date to datetime\n",
    "df['date'] = pd.to_datetime(df['date'])\n",
    "df = df[['patient_id', 'date']].drop_duplicates()\n",
    "\n",
    "df = df.sort_values(by=['patient_id', 'date'])\n",
    "\n",
    "df['visit_gap'] = df.groupby('patient_id')['date'].diff().dt.days\n",
    "\n",
    "mean_gaps_per_patient = df.groupby('patient_id')['visit_gap'].mean()\n",
    "\n",
    "overall_mean_gap = mean_gaps_per_patient.mean()\n",
    "\n",
    "print(f\"Overall Mean of Visit Gaps: {overall_mean_gap // 30:.2f}  months\")\n"
   ],
   "id": "fee5f4cf43646740",
   "outputs": [],
   "execution_count": null
  },
  {
   "metadata": {},
   "cell_type": "markdown",
   "source": "## Cox Regression",
   "id": "488b83c4ba9d5997"
  },
  {
   "metadata": {},
   "cell_type": "code",
   "source": [
    "import pandas as pd\n",
    "import numpy as np\n",
    "import matplotlib.pyplot as plt\n",
    "from lifelines import CoxPHFitter\n"
   ],
   "id": "c1239657eff3f2b4",
   "outputs": [],
   "execution_count": null
  },
  {
   "metadata": {},
   "cell_type": "code",
   "source": [
    "import pandas as pd\n",
    "import json\n",
    "import glob\n",
    "import os\n",
    "\n",
    "# Load CSV\n",
    "metadata_df = pd.read_csv(\"merged_output_full_outer.csv\")  # Ensure correct file path\n",
    "\n",
    "# Convert visit_date to datetime for easier calculations\n",
    "metadata_df[\"date\"] = pd.to_datetime(metadata_df[\"date\"])\n",
    "\n",
    "# Show first few rows\n",
    "print(metadata_df.head())\n"
   ],
   "id": "2e66d1cdb18a9739",
   "outputs": [],
   "execution_count": null
  },
  {
   "metadata": {},
   "cell_type": "code",
   "source": [
    "import pandas as pd\n",
    "import json\n",
    "\n",
    "# Load JSON file\n",
    "json_path = \"htd_analysis_dr_kent.json\"\n",
    "with open(json_path, \"r\") as f:\n",
    "    data = json.load(f)\n",
    "\n",
    "# Flatten JSON: Convert nested structure into DataFrame format\n",
    "biomarker_records = []\n",
    "for visit_path, biomarkers in data.items():\n",
    "    record = {\n",
    "        \"path\": visit_path,  # Store path to link with CSV\n",
    "        \"htd_6mm_area\": biomarkers.get(\"htd_6mm_area\", None),\n",
    "        \"htd_3mm_area\": biomarkers.get(\"htd_3mm_area\", None),\n",
    "        \"htd_1mm_area\": biomarkers.get(\"htd_1mm_area\", None),\n",
    "        \"inner_retina_thickness\": biomarkers[\"thicknesses\"][\"Inner Retina\"].get(\"central\", None),\n",
    "        \"outer_retina_thickness\": biomarkers[\"thicknesses\"][\"Outer Retina\"].get(\"central\", None),\n",
    "        \"rpedc_thickness\": biomarkers[\"thicknesses\"][\"RPEDC\"].get(\"central\", None),\n",
    "        \"total_thickness\": biomarkers[\"thicknesses\"][\"total_thickness\"].get(\"central\", None),\n",
    "        \"rnfl_thickness\": biomarkers[\"thicknesses\"][\"rnfl_thickness\"].get(\"central\", None),\n",
    "        \"ez_rpe_thickness\": biomarkers[\"thicknesses\"][\"ez-rpe\"].get(\"central\", None),\n",
    "    }\n",
    "    biomarker_records.append(record)\n",
    "\n",
    "# Convert to DataFrame\n",
    "biomarker_df = pd.DataFrame(biomarker_records)\n",
    "\n",
    "# Show first few rows\n",
    "print(biomarker_df.head())\n"
   ],
   "id": "af49bde9b26fa6b9",
   "outputs": [],
   "execution_count": null
  },
  {
   "metadata": {},
   "cell_type": "code",
   "source": [
    "# Load CSV file\n",
    "metadata_df = pd.read_csv(\"merged_output_full_outer.csv\")  # Ensure correct path\n",
    "\n",
    "# Convert visit_date to datetime\n",
    "metadata_df[\"date\"] = pd.to_datetime(metadata_df[\"date\"])\n",
    "\n",
    "# Show metadata\n",
    "print(metadata_df.head())\n"
   ],
   "id": "de54ce130b9baa17",
   "outputs": [],
   "execution_count": null
  },
  {
   "metadata": {},
   "cell_type": "code",
   "source": [
    "# Merge biomarker data with metadata using the 'path' column\n",
    "merged_df = metadata_df.merge(biomarker_df, on=\"path\")\n",
    "\n",
    "merged_df.drop(columns=[\"path\"], inplace=True)\n",
    "\n",
    "# Show first few rows\n",
    "print(len(merged_df))\n"
   ],
   "id": "93798e6ca3dab130",
   "outputs": [],
   "execution_count": null
  },
  {
   "metadata": {},
   "cell_type": "code",
   "source": [
    "# Identify the first Dry AMD diagnosis per patient & eye\n",
    "dry_amd_diagnosis = merged_df.groupby([\"patient_id\", \"eye\"])[\"visit_date\"].min().reset_index()\n",
    "dry_amd_diagnosis.rename(columns={\"visit_date\": \"diagnosis_date\"}, inplace=True)\n",
    "\n",
    "# Merge with main DataFrame\n",
    "merged_df = merged_df.merge(dry_amd_diagnosis, on=[\"patient_id\", \"eye\"])\n",
    "\n",
    "# Compute time since Dry AMD diagnosis (in months)\n",
    "merged_df[\"time_to_event\"] = (merged_df[\"visit_date\"] - merged_df[\"diagnosis_date\"]).dt.days / 30.0\n",
    "\n",
    "# Label GA occurrence (Assumption: GA occurs if ez_rpe_thickness < 10 µm)\n",
    "merged_df[\"event\"] = merged_df[\"ez_rpe_thickness\"].apply(lambda x: 1 if x < 10 else 0)\n",
    "\n",
    "# Show relevant columns\n",
    "print(merged_df[[\"patient_id\", \"eye\", \"time_to_event\", \"event\", \"htd_6mm_area\", \"ez_rpe_thickness\"]].head())\n"
   ],
   "id": "2b6484c8b1ddaa59",
   "outputs": [],
   "execution_count": null
  }
 ],
 "metadata": {
  "kernelspec": {
   "display_name": "Python 3",
   "language": "python",
   "name": "python3"
  },
  "language_info": {
   "codemirror_mode": {
    "name": "ipython",
    "version": 2
   },
   "file_extension": ".py",
   "mimetype": "text/x-python",
   "name": "python",
   "nbconvert_exporter": "python",
   "pygments_lexer": "ipython2",
   "version": "2.7.6"
  }
 },
 "nbformat": 4,
 "nbformat_minor": 5
}
