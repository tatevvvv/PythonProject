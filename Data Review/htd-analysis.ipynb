{
 "cells": [
  {
   "metadata": {},
   "cell_type": "markdown",
   "source": [
    "# htd = hypertransmision deffect,\n",
    " when RPE is damaged and lights transmits more, specific kind of scans apply light and measure transmision amount, more transmitted equals more damaged"
   ],
   "id": "264876bbb7a39c85"
  },
  {
   "metadata": {},
   "cell_type": "markdown",
   "source": [
    "\"htd_6mm_area\": - 6mm diameter area around the fovea\n",
    "\n",
    "\"htd_3mm_area\": - 3mm diameter area around the fovea\n",
    "\n",
    "\"htd_1mm_area\": - 1mm diameter area around the fovea\n",
    "\n"
   ],
   "id": "130cc969b8a68cfe"
  },
  {
   "metadata": {},
   "cell_type": "markdown",
   "source": [
    "Rsearchers found that a persistent hyperTD significantly increases the risk of developing GA in eyes with interme­diate AMD.\n",
    "https://www.aao.org/eyenet/article/hypertransmission-defects-predict-ga-formation"
   ],
   "id": "cb51c3a9111e5901"
  },
  {
   "metadata": {},
   "cell_type": "markdown",
   "source": "# Thickness",
   "id": "b23184890b18d80f"
  },
  {
   "metadata": {},
   "cell_type": "markdown",
   "source": "",
   "id": "354b11cbe848bcd3"
  },
  {
   "metadata": {},
   "cell_type": "markdown",
   "source": "## Thickness values are interpreted same for all layers",
   "id": "ce56ff5b1e4adbfd"
  },
  {
   "metadata": {},
   "cell_type": "code",
   "outputs": [],
   "execution_count": null,
   "source": [
    "{\n",
    "\"central\": 120.31190494316219, # central thickness\n",
    "\"total\": 137.73375740094087, # total thickness\n",
    "\"f\": 133.8669327314686, # foveal thickness\n",
    "\"t3\": 167.48187246746951, # temporal 3mm thickness\n",
    "\"s3\": 153.88896554399528, # superior 3mm thickness\n",
    "\"n3\": 133.35233405561115, # nasal 3mm thickness\n",
    "\"i3\": 146.1280565007846, # inferior 3mm thickness\n",
    "\"t6\": 144.00152726613615, # temporal 6mm thickness\n",
    "\"s6\": 126.7793412015316, # superior 6mm thickness\n",
    "\"n6\": 124.99107728490095, # nasal 6mm thickness\n",
    "\"i6\": 141.04801918612702 # inferior 6mm thickness\n",
    "}"
   ],
   "id": "9dfbe4a0f698adc0"
  },
  {
   "metadata": {
    "ExecuteTime": {
     "end_time": "2025-02-11T19:12:12.307747Z",
     "start_time": "2025-02-11T19:12:12.293163Z"
    }
   },
   "cell_type": "code",
   "source": [
    "from IPython.display import Image\n",
    "Image(url=\"img.png\", width=600, height=600)\n",
    "Image(url=\"img_1.png\", width=600, height=600)"
   ],
   "id": "82115841568c9ee4",
   "outputs": [
    {
     "data": {
      "text/html": [
       "<img src=\"img_1.png\" width=\"600\" height=\"600\"/>"
      ],
      "text/plain": [
       "<IPython.core.display.Image object>"
      ]
     },
     "execution_count": 14,
     "metadata": {},
     "output_type": "execute_result"
    }
   ],
   "execution_count": 14
  },
  {
   "metadata": {},
   "cell_type": "markdown",
   "source": [
    "## Inner Retina = (Ganglion Cells + RNFL)\n",
    "## Outer Retina = Photoreceptor Layer\n",
    "## RPEDC = (Retinal Pigment Epithelium + Drusen Complex)\n",
    "## ILM-BM (Inner Limiting Membrane to Bruch’s Membrane)\n",
    "## EZ-RPE (Ellipsoid Zone to RPE)\n",
    "## RNLF = Retinal Nerve Fiber Layer\n",
    "## Total Thickness = Outer + Inner Thicknesses"
   ],
   "id": "fb8fe7dd027e5859"
  },
  {
   "metadata": {
    "ExecuteTime": {
     "end_time": "2025-02-11T19:33:13.593198Z",
     "start_time": "2025-02-11T19:33:13.457523Z"
    }
   },
   "cell_type": "code",
   "source": [
    "from IPython.display import Image\n",
    "\n",
    "Image(url=\"img_2.png\", width=900, height=600)"
   ],
   "id": "4b1175576d68ccc9",
   "outputs": [
    {
     "data": {
      "text/html": [
       "<img src=\"img_2.png\" width=\"900\" height=\"600\"/>"
      ],
      "text/plain": [
       "<IPython.core.display.Image object>"
      ]
     },
     "execution_count": 16,
     "metadata": {},
     "output_type": "execute_result"
    }
   ],
   "execution_count": 16
  }
 ],
 "metadata": {
  "kernelspec": {
   "display_name": "Python 3",
   "language": "python",
   "name": "python3"
  },
  "language_info": {
   "codemirror_mode": {
    "name": "ipython",
    "version": 2
   },
   "file_extension": ".py",
   "mimetype": "text/x-python",
   "name": "python",
   "nbconvert_exporter": "python",
   "pygments_lexer": "ipython2",
   "version": "2.7.6"
  }
 },
 "nbformat": 4,
 "nbformat_minor": 5
}
